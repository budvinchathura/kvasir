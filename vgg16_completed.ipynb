{
  "nbformat": 4,
  "nbformat_minor": 0,
  "metadata": {
    "colab": {
      "name": "transfer.ipynb",
      "provenance": [],
      "include_colab_link": true
    },
    "kernelspec": {
      "name": "python3",
      "display_name": "Python 3"
    },
    "accelerator": "GPU"
  },
  "cells": [
    {
      "cell_type": "markdown",
      "metadata": {
        "id": "view-in-github",
        "colab_type": "text"
      },
      "source": [
        "<a href=\"https://colab.research.google.com/github/budvinchathura/kvasir/blob/master/vgg16_completed.ipynb\" target=\"_parent\"><img src=\"https://colab.research.google.com/assets/colab-badge.svg\" alt=\"Open In Colab\"/></a>"
      ]
    },
    {
      "cell_type": "code",
      "metadata": {
        "id": "8sDjx5qsBkBb",
        "colab_type": "code",
        "colab": {}
      },
      "source": [
        "# ! wget 'https://datasets.simula.no/kvasir/data/kvasir-dataset-v2.zip'\n",
        "# ! wget -P 'drive/My Drive/kvasir_project/' 'https://datasets.simula.no/kvasir/data/kvasir-dataset-v2.zip'\n",
        "\n",
        "# ! unzip 'kvasir-dataset-v2.zip'\n",
        "# ! unzip 'drive/My Drive/kvasir_project/kvasir-dataset-v2.zip'\n",
        "# ! cp -R 'kvasir-dataset-v2' 'drive/My Drive/kvasir_project'\n",
        "\n",
        "# from google.colab import drive\n",
        "# drive.mount('/content/drive',force_remount=True)\n",
        "\n",
        "# ! unzip 'drive/My Drive/DatasetZip/test-Set.zip' -d \"./\"\n",
        "# ! unzip 'drive/My Drive/DatasetZip/train-Set.zip' -d \"./\"\n",
        "# ! mkdir \"checkpoint\"\n"
      ],
      "execution_count": 0,
      "outputs": []
    },
    {
      "cell_type": "code",
      "metadata": {
        "id": "A1NULf6FY15Z",
        "colab_type": "code",
        "colab": {}
      },
      "source": [
        ""
      ],
      "execution_count": 0,
      "outputs": []
    },
    {
      "cell_type": "code",
      "metadata": {
        "id": "HmiDu5abBocO",
        "colab_type": "code",
        "outputId": "fe021603-d1c6-4408-bc24-6554eaed79dd",
        "colab": {
          "base_uri": "https://localhost:8080/",
          "height": 435
        }
      },
      "source": [
        "HEIGHT = 150\n",
        "WIDTH = 150\n",
        "\n",
        "# from keras.applications.resnet50 import ResNet50, preprocess_input\n",
        "# base_model = ResNet50(weights='imagenet', \n",
        "#                       include_top=False, \n",
        "#                       input_shape=(HEIGHT, WIDTH, 3))\n",
        "\n",
        "\n",
        "from keras.applications.vgg16 import VGG16, preprocess_input\n",
        "base_model = VGG16(weights='imagenet', \n",
        "                      include_top=False, \n",
        "                      input_shape=(HEIGHT, WIDTH, 3))\n",
        "\n",
        "\n",
        "# from keras.applications.inception_v3 import InceptionV3, preprocess_input\n",
        "# base_model = InceptionV3(weights='imagenet', \n",
        "#                       include_top=False, \n",
        "#                       input_shape=(HEIGHT, WIDTH, 3))\n",
        "\n",
        "\n",
        "# from keras.applications.resnet_v2 import ResNet50V2, preprocess_input\n",
        "# base_model = ResNet50V2(weights='imagenet', \n",
        "#                       include_top=False, \n",
        "#                       input_shape=(HEIGHT, WIDTH, 3))\n"
      ],
      "execution_count": 1,
      "outputs": [
        {
          "output_type": "stream",
          "text": [
            "Using TensorFlow backend.\n"
          ],
          "name": "stderr"
        },
        {
          "output_type": "display_data",
          "data": {
            "text/html": [
              "<p style=\"color: red;\">\n",
              "The default version of TensorFlow in Colab will soon switch to TensorFlow 2.x.<br>\n",
              "We recommend you <a href=\"https://www.tensorflow.org/guide/migrate\" target=\"_blank\">upgrade</a> now \n",
              "or ensure your notebook will continue to use TensorFlow 1.x via the <code>%tensorflow_version 1.x</code> magic:\n",
              "<a href=\"https://colab.research.google.com/notebooks/tensorflow_version.ipynb\" target=\"_blank\">more info</a>.</p>\n"
            ],
            "text/plain": [
              "<IPython.core.display.HTML object>"
            ]
          },
          "metadata": {
            "tags": []
          }
        },
        {
          "output_type": "stream",
          "text": [
            "WARNING:tensorflow:From /usr/local/lib/python3.6/dist-packages/keras/backend/tensorflow_backend.py:66: The name tf.get_default_graph is deprecated. Please use tf.compat.v1.get_default_graph instead.\n",
            "\n",
            "WARNING:tensorflow:From /usr/local/lib/python3.6/dist-packages/keras/backend/tensorflow_backend.py:541: The name tf.placeholder is deprecated. Please use tf.compat.v1.placeholder instead.\n",
            "\n",
            "WARNING:tensorflow:From /usr/local/lib/python3.6/dist-packages/keras/backend/tensorflow_backend.py:4432: The name tf.random_uniform is deprecated. Please use tf.random.uniform instead.\n",
            "\n",
            "WARNING:tensorflow:From /usr/local/lib/python3.6/dist-packages/keras/backend/tensorflow_backend.py:4267: The name tf.nn.max_pool is deprecated. Please use tf.nn.max_pool2d instead.\n",
            "\n",
            "WARNING:tensorflow:From /usr/local/lib/python3.6/dist-packages/keras/backend/tensorflow_backend.py:190: The name tf.get_default_session is deprecated. Please use tf.compat.v1.get_default_session instead.\n",
            "\n",
            "WARNING:tensorflow:From /usr/local/lib/python3.6/dist-packages/keras/backend/tensorflow_backend.py:197: The name tf.ConfigProto is deprecated. Please use tf.compat.v1.ConfigProto instead.\n",
            "\n",
            "WARNING:tensorflow:From /usr/local/lib/python3.6/dist-packages/keras/backend/tensorflow_backend.py:203: The name tf.Session is deprecated. Please use tf.compat.v1.Session instead.\n",
            "\n",
            "WARNING:tensorflow:From /usr/local/lib/python3.6/dist-packages/keras/backend/tensorflow_backend.py:207: The name tf.global_variables is deprecated. Please use tf.compat.v1.global_variables instead.\n",
            "\n",
            "WARNING:tensorflow:From /usr/local/lib/python3.6/dist-packages/keras/backend/tensorflow_backend.py:216: The name tf.is_variable_initialized is deprecated. Please use tf.compat.v1.is_variable_initialized instead.\n",
            "\n",
            "WARNING:tensorflow:From /usr/local/lib/python3.6/dist-packages/keras/backend/tensorflow_backend.py:223: The name tf.variables_initializer is deprecated. Please use tf.compat.v1.variables_initializer instead.\n",
            "\n"
          ],
          "name": "stdout"
        }
      ]
    },
    {
      "cell_type": "code",
      "metadata": {
        "id": "HjLxPbMuBxfh",
        "colab_type": "code",
        "outputId": "3352c07f-c9fd-4737-a00d-6b4d604be55c",
        "colab": {
          "base_uri": "https://localhost:8080/",
          "height": 50
        }
      },
      "source": [
        "from keras.preprocessing.image import ImageDataGenerator\n",
        "\n",
        "TRAIN_DIR = \"train-Set\"\n",
        "TEST_DIR = \"test-Set\"\n",
        "HEIGHT = 150\n",
        "WIDTH = 150\n",
        "BATCH_SIZE = 32\n",
        "\n",
        "# train_datagen =  ImageDataGenerator(\n",
        "#       preprocessing_function=preprocess_input,\n",
        "#       rotation_range=90,\n",
        "#       horizontal_flip=True,\n",
        "#       vertical_flip=True\n",
        "#     )\n",
        "\n",
        "# train_generator = train_datagen.flow_from_directory(TRAIN_DIR, \n",
        "#                                                     target_size=(HEIGHT, WIDTH), \n",
        "#                                                     batch_size=BATCH_SIZE)\n",
        "\n",
        "\n",
        "\n",
        "\n",
        "train_datagen =  ImageDataGenerator(\n",
        "      preprocessing_function=preprocess_input)\n",
        "\n",
        "train_generator = train_datagen.flow_from_directory(TRAIN_DIR, \n",
        "                                                    target_size=(HEIGHT, WIDTH), \n",
        "                                                    batch_size=BATCH_SIZE)\n",
        "\n",
        "\n",
        "test_datagen =  ImageDataGenerator(\n",
        "      preprocessing_function=preprocess_input)\n",
        "\n",
        "test_generator = test_datagen.flow_from_directory(TEST_DIR, \n",
        "                                                    target_size=(HEIGHT, WIDTH), \n",
        "                                                    batch_size=BATCH_SIZE)\n",
        "\n",
        "\n",
        "\n"
      ],
      "execution_count": 2,
      "outputs": [
        {
          "output_type": "stream",
          "text": [
            "Found 6400 images belonging to 8 classes.\n",
            "Found 1600 images belonging to 8 classes.\n"
          ],
          "name": "stdout"
        }
      ]
    },
    {
      "cell_type": "code",
      "metadata": {
        "id": "VLyp9P-kB3it",
        "colab_type": "code",
        "colab": {
          "base_uri": "https://localhost:8080/",
          "height": 121
        },
        "outputId": "ce42e077-e951-4d45-fe47-1fe8ad47c8ec"
      },
      "source": [
        "from keras.layers import Dense, Activation, Flatten, Dropout\n",
        "from keras.models import Sequential, Model\n",
        "\n",
        "def build_finetune_model(base_model, dropout, fc_layers, num_classes):\n",
        "    for layer in base_model.layers:\n",
        "        layer.trainable = False\n",
        "\n",
        "    x = base_model.output\n",
        "    x = Flatten()(x)\n",
        "    for fc in fc_layers:\n",
        "        # New FC layer, random init\n",
        "        x = Dense(fc, activation='relu')(x) \n",
        "        x = Dropout(dropout)(x)\n",
        "\n",
        "    # New softmax layer\n",
        "    predictions = Dense(num_classes, activation='softmax')(x) \n",
        "    \n",
        "    finetune_model = Model(inputs=base_model.input, outputs=predictions)\n",
        "\n",
        "    return finetune_model\n",
        "\n",
        "class_list = [\"dyed-lifted-polyps\", \"dyed-resection-margins\", \"esophagitis\",\"normal-cecum\",\"normal-pylorus\",\"normal-z-line\",\"polyps\",\"ulcerative-colitis\"]\n",
        "FC_LAYERS = [64,1024,64]\n",
        "dropout = 0.5\n",
        "\n",
        "finetune_model = build_finetune_model(base_model, \n",
        "                                      dropout=dropout, \n",
        "                                      fc_layers=FC_LAYERS, \n",
        "                                      num_classes=len(class_list))"
      ],
      "execution_count": 3,
      "outputs": [
        {
          "output_type": "stream",
          "text": [
            "WARNING:tensorflow:From /usr/local/lib/python3.6/dist-packages/keras/backend/tensorflow_backend.py:148: The name tf.placeholder_with_default is deprecated. Please use tf.compat.v1.placeholder_with_default instead.\n",
            "\n",
            "WARNING:tensorflow:From /usr/local/lib/python3.6/dist-packages/keras/backend/tensorflow_backend.py:3733: calling dropout (from tensorflow.python.ops.nn_ops) with keep_prob is deprecated and will be removed in a future version.\n",
            "Instructions for updating:\n",
            "Please use `rate` instead of `keep_prob`. Rate should be set to `rate = 1 - keep_prob`.\n"
          ],
          "name": "stdout"
        }
      ]
    },
    {
      "cell_type": "code",
      "metadata": {
        "id": "GVBf3aBXB79S",
        "colab_type": "code",
        "outputId": "c58c4583-c962-46e4-daf6-6daac093d2c2",
        "colab": {
          "base_uri": "https://localhost:8080/",
          "height": 1000
        }
      },
      "source": [
        "from keras.optimizers import SGD, Adam\n",
        "from keras.callbacks import ModelCheckpoint\n",
        "import matplotlib.pyplot as plt\n",
        "\n",
        "NUM_EPOCHS = 70\n",
        "BATCH_SIZE = 32\n",
        "num_train_images = 6400\n",
        "num_test_images = 1600\n",
        "\n",
        "adam = Adam(lr=0.0001)\n",
        "finetune_model.compile(adam, loss='categorical_crossentropy', metrics=['accuracy'])\n",
        "\n",
        "filepath=\"./checkpoints/\" + \"ResNet50\" + \"_model_weights.h5\"\n",
        "checkpoint = ModelCheckpoint(filepath, monitor=[\"acc\"], verbose=1, mode='max')\n",
        "callbacks_list = [checkpoint]\n",
        "\n",
        "print(finetune_model.summary())\n",
        "\n"
      ],
      "execution_count": 4,
      "outputs": [
        {
          "output_type": "stream",
          "text": [
            "WARNING:tensorflow:From /usr/local/lib/python3.6/dist-packages/keras/optimizers.py:793: The name tf.train.Optimizer is deprecated. Please use tf.compat.v1.train.Optimizer instead.\n",
            "\n",
            "WARNING:tensorflow:From /usr/local/lib/python3.6/dist-packages/keras/backend/tensorflow_backend.py:3576: The name tf.log is deprecated. Please use tf.math.log instead.\n",
            "\n",
            "Model: \"model_1\"\n",
            "_________________________________________________________________\n",
            "Layer (type)                 Output Shape              Param #   \n",
            "=================================================================\n",
            "input_1 (InputLayer)         (None, 150, 150, 3)       0         \n",
            "_________________________________________________________________\n",
            "block1_conv1 (Conv2D)        (None, 150, 150, 64)      1792      \n",
            "_________________________________________________________________\n",
            "block1_conv2 (Conv2D)        (None, 150, 150, 64)      36928     \n",
            "_________________________________________________________________\n",
            "block1_pool (MaxPooling2D)   (None, 75, 75, 64)        0         \n",
            "_________________________________________________________________\n",
            "block2_conv1 (Conv2D)        (None, 75, 75, 128)       73856     \n",
            "_________________________________________________________________\n",
            "block2_conv2 (Conv2D)        (None, 75, 75, 128)       147584    \n",
            "_________________________________________________________________\n",
            "block2_pool (MaxPooling2D)   (None, 37, 37, 128)       0         \n",
            "_________________________________________________________________\n",
            "block3_conv1 (Conv2D)        (None, 37, 37, 256)       295168    \n",
            "_________________________________________________________________\n",
            "block3_conv2 (Conv2D)        (None, 37, 37, 256)       590080    \n",
            "_________________________________________________________________\n",
            "block3_conv3 (Conv2D)        (None, 37, 37, 256)       590080    \n",
            "_________________________________________________________________\n",
            "block3_pool (MaxPooling2D)   (None, 18, 18, 256)       0         \n",
            "_________________________________________________________________\n",
            "block4_conv1 (Conv2D)        (None, 18, 18, 512)       1180160   \n",
            "_________________________________________________________________\n",
            "block4_conv2 (Conv2D)        (None, 18, 18, 512)       2359808   \n",
            "_________________________________________________________________\n",
            "block4_conv3 (Conv2D)        (None, 18, 18, 512)       2359808   \n",
            "_________________________________________________________________\n",
            "block4_pool (MaxPooling2D)   (None, 9, 9, 512)         0         \n",
            "_________________________________________________________________\n",
            "block5_conv1 (Conv2D)        (None, 9, 9, 512)         2359808   \n",
            "_________________________________________________________________\n",
            "block5_conv2 (Conv2D)        (None, 9, 9, 512)         2359808   \n",
            "_________________________________________________________________\n",
            "block5_conv3 (Conv2D)        (None, 9, 9, 512)         2359808   \n",
            "_________________________________________________________________\n",
            "block5_pool (MaxPooling2D)   (None, 4, 4, 512)         0         \n",
            "_________________________________________________________________\n",
            "flatten_1 (Flatten)          (None, 8192)              0         \n",
            "_________________________________________________________________\n",
            "dense_1 (Dense)              (None, 64)                524352    \n",
            "_________________________________________________________________\n",
            "dropout_1 (Dropout)          (None, 64)                0         \n",
            "_________________________________________________________________\n",
            "dense_2 (Dense)              (None, 1024)              66560     \n",
            "_________________________________________________________________\n",
            "dropout_2 (Dropout)          (None, 1024)              0         \n",
            "_________________________________________________________________\n",
            "dense_3 (Dense)              (None, 64)                65600     \n",
            "_________________________________________________________________\n",
            "dropout_3 (Dropout)          (None, 64)                0         \n",
            "_________________________________________________________________\n",
            "dense_4 (Dense)              (None, 8)                 520       \n",
            "=================================================================\n",
            "Total params: 15,371,720\n",
            "Trainable params: 657,032\n",
            "Non-trainable params: 14,714,688\n",
            "_________________________________________________________________\n",
            "None\n"
          ],
          "name": "stdout"
        }
      ]
    },
    {
      "cell_type": "code",
      "metadata": {
        "id": "TdE5AS3T_UBn",
        "colab_type": "code",
        "colab": {
          "base_uri": "https://localhost:8080/",
          "height": 1000
        },
        "outputId": "407a2385-7026-4490-a8e0-e7f7b2376839"
      },
      "source": [
        "history = finetune_model.fit_generator(train_generator, epochs=NUM_EPOCHS, workers=8, \n",
        "                                       steps_per_epoch=num_train_images // BATCH_SIZE, \n",
        "                                       shuffle=True,validation_data=test_generator,validation_steps=num_test_images//BATCH_SIZE)\n",
        "\n",
        "\n",
        "\n",
        "# Plot the training and validation loss + accuracy\n",
        "def plot_training(history):\n",
        "    acc = history.history['acc']\n",
        "    val_acc = history.history['val_acc']\n",
        "    loss = history.history['loss']\n",
        "    val_loss = history.history['val_loss']\n",
        "    epochs = range(len(acc))\n",
        "\n",
        "    plt.plot(epochs, acc, 'r.')\n",
        "    plt.plot(epochs, val_acc, 'r')\n",
        "    plt.title('Training and validation accuracy')\n",
        "\n",
        "    # plt.figure()\n",
        "    # plt.plot(epochs, loss, 'r.')\n",
        "    # plt.plot(epochs, val_loss, 'r-')\n",
        "    # plt.title('Training and validation loss')\n",
        "    plt.show()\n",
        "\n",
        "    plt.savefig('acc_vs_epochs.png')\n",
        "\n",
        "plot_training(history)\n"
      ],
      "execution_count": 5,
      "outputs": [
        {
          "output_type": "stream",
          "text": [
            "WARNING:tensorflow:From /usr/local/lib/python3.6/dist-packages/tensorflow_core/python/ops/math_grad.py:1424: where (from tensorflow.python.ops.array_ops) is deprecated and will be removed in a future version.\n",
            "Instructions for updating:\n",
            "Use tf.where in 2.0, which has the same broadcast rule as np.where\n",
            "WARNING:tensorflow:From /usr/local/lib/python3.6/dist-packages/keras/backend/tensorflow_backend.py:1033: The name tf.assign_add is deprecated. Please use tf.compat.v1.assign_add instead.\n",
            "\n",
            "WARNING:tensorflow:From /usr/local/lib/python3.6/dist-packages/keras/backend/tensorflow_backend.py:1020: The name tf.assign is deprecated. Please use tf.compat.v1.assign instead.\n",
            "\n",
            "Epoch 1/70\n",
            "200/200 [==============================] - 118s 590ms/step - loss: 3.1334 - acc: 0.1338 - val_loss: 2.0247 - val_acc: 0.2263\n",
            "Epoch 2/70\n",
            "200/200 [==============================] - 111s 557ms/step - loss: 2.0609 - acc: 0.1514 - val_loss: 1.9507 - val_acc: 0.2450\n",
            "Epoch 3/70\n",
            "200/200 [==============================] - 112s 559ms/step - loss: 1.9955 - acc: 0.1909 - val_loss: 1.8629 - val_acc: 0.3075\n",
            "Epoch 4/70\n",
            "200/200 [==============================] - 111s 555ms/step - loss: 1.9090 - acc: 0.2417 - val_loss: 1.5935 - val_acc: 0.4313\n",
            "Epoch 5/70\n",
            "200/200 [==============================] - 110s 552ms/step - loss: 1.7333 - acc: 0.3169 - val_loss: 1.2796 - val_acc: 0.5613\n",
            "Epoch 6/70\n",
            "200/200 [==============================] - 110s 549ms/step - loss: 1.6216 - acc: 0.3769 - val_loss: 1.1867 - val_acc: 0.5856\n",
            "Epoch 7/70\n",
            "200/200 [==============================] - 110s 549ms/step - loss: 1.5141 - acc: 0.4236 - val_loss: 1.1058 - val_acc: 0.6244\n",
            "Epoch 8/70\n",
            "200/200 [==============================] - 110s 550ms/step - loss: 1.4345 - acc: 0.4491 - val_loss: 1.0375 - val_acc: 0.6975\n",
            "Epoch 9/70\n",
            "200/200 [==============================] - 110s 549ms/step - loss: 1.3683 - acc: 0.4717 - val_loss: 0.9375 - val_acc: 0.7350\n",
            "Epoch 10/70\n",
            "200/200 [==============================] - 110s 549ms/step - loss: 1.2771 - acc: 0.4945 - val_loss: 0.8818 - val_acc: 0.7450\n",
            "Epoch 11/70\n",
            "200/200 [==============================] - 108s 541ms/step - loss: 1.2279 - acc: 0.5192 - val_loss: 0.8397 - val_acc: 0.7544\n",
            "Epoch 12/70\n",
            "200/200 [==============================] - 109s 545ms/step - loss: 1.1614 - acc: 0.5383 - val_loss: 0.8314 - val_acc: 0.7681\n",
            "Epoch 13/70\n",
            "200/200 [==============================] - 109s 545ms/step - loss: 1.1123 - acc: 0.5539 - val_loss: 0.8363 - val_acc: 0.7538\n",
            "Epoch 14/70\n",
            "200/200 [==============================] - 109s 545ms/step - loss: 1.0677 - acc: 0.5663 - val_loss: 0.7614 - val_acc: 0.7556\n",
            "Epoch 15/70\n",
            "200/200 [==============================] - 109s 547ms/step - loss: 1.0238 - acc: 0.5827 - val_loss: 0.7390 - val_acc: 0.7612\n",
            "Epoch 16/70\n",
            "200/200 [==============================] - 109s 544ms/step - loss: 0.9881 - acc: 0.6014 - val_loss: 0.7095 - val_acc: 0.7788\n",
            "Epoch 17/70\n",
            "200/200 [==============================] - 110s 548ms/step - loss: 0.9593 - acc: 0.6034 - val_loss: 0.7179 - val_acc: 0.7756\n",
            "Epoch 18/70\n",
            "200/200 [==============================] - 109s 547ms/step - loss: 0.9216 - acc: 0.6150 - val_loss: 0.7230 - val_acc: 0.7550\n",
            "Epoch 19/70\n",
            "200/200 [==============================] - 109s 547ms/step - loss: 0.8950 - acc: 0.6162 - val_loss: 0.6662 - val_acc: 0.7931\n",
            "Epoch 20/70\n",
            "200/200 [==============================] - 109s 544ms/step - loss: 0.8576 - acc: 0.6305 - val_loss: 0.6776 - val_acc: 0.7706\n",
            "Epoch 21/70\n",
            "200/200 [==============================] - 108s 539ms/step - loss: 0.8554 - acc: 0.6270 - val_loss: 0.6992 - val_acc: 0.7900\n",
            "Epoch 22/70\n",
            "200/200 [==============================] - 107s 537ms/step - loss: 0.8290 - acc: 0.6425 - val_loss: 0.6605 - val_acc: 0.8019\n",
            "Epoch 23/70\n",
            "200/200 [==============================] - 108s 540ms/step - loss: 0.8102 - acc: 0.6358 - val_loss: 0.6520 - val_acc: 0.7981\n",
            "Epoch 24/70\n",
            "200/200 [==============================] - 108s 541ms/step - loss: 0.8102 - acc: 0.6503 - val_loss: 0.6360 - val_acc: 0.7950\n",
            "Epoch 25/70\n",
            "200/200 [==============================] - 108s 540ms/step - loss: 0.7974 - acc: 0.6523 - val_loss: 0.6325 - val_acc: 0.8087\n",
            "Epoch 26/70\n",
            "200/200 [==============================] - 109s 543ms/step - loss: 0.7865 - acc: 0.6530 - val_loss: 0.6304 - val_acc: 0.8137\n",
            "Epoch 27/70\n",
            "200/200 [==============================] - 109s 544ms/step - loss: 0.7714 - acc: 0.6539 - val_loss: 0.6559 - val_acc: 0.7863\n",
            "Epoch 28/70\n",
            "200/200 [==============================] - 109s 544ms/step - loss: 0.7629 - acc: 0.6659 - val_loss: 0.6258 - val_acc: 0.8156\n",
            "Epoch 29/70\n",
            "200/200 [==============================] - 109s 546ms/step - loss: 0.7636 - acc: 0.6597 - val_loss: 0.6365 - val_acc: 0.8144\n",
            "Epoch 30/70\n",
            "200/200 [==============================] - 108s 540ms/step - loss: 0.7663 - acc: 0.6623 - val_loss: 0.6251 - val_acc: 0.8237\n",
            "Epoch 31/70\n",
            "200/200 [==============================] - 107s 537ms/step - loss: 0.7516 - acc: 0.6620 - val_loss: 0.6480 - val_acc: 0.8281\n",
            "Epoch 32/70\n",
            "200/200 [==============================] - 108s 541ms/step - loss: 0.7495 - acc: 0.6722 - val_loss: 0.6406 - val_acc: 0.8231\n",
            "Epoch 33/70\n",
            "200/200 [==============================] - 108s 539ms/step - loss: 0.7209 - acc: 0.6780 - val_loss: 0.6121 - val_acc: 0.8137\n",
            "Epoch 34/70\n",
            "200/200 [==============================] - 108s 542ms/step - loss: 0.7360 - acc: 0.6789 - val_loss: 0.6252 - val_acc: 0.8225\n",
            "Epoch 35/70\n",
            "200/200 [==============================] - 108s 542ms/step - loss: 0.7317 - acc: 0.6814 - val_loss: 0.6047 - val_acc: 0.8225\n",
            "Epoch 36/70\n",
            "200/200 [==============================] - 108s 541ms/step - loss: 0.7155 - acc: 0.6870 - val_loss: 0.6046 - val_acc: 0.8125\n",
            "Epoch 37/70\n",
            "200/200 [==============================] - 108s 542ms/step - loss: 0.7168 - acc: 0.6898 - val_loss: 0.6097 - val_acc: 0.8156\n",
            "Epoch 38/70\n",
            "200/200 [==============================] - 107s 537ms/step - loss: 0.7081 - acc: 0.6977 - val_loss: 0.5875 - val_acc: 0.8363\n",
            "Epoch 39/70\n",
            "200/200 [==============================] - 109s 543ms/step - loss: 0.6781 - acc: 0.7056 - val_loss: 0.6040 - val_acc: 0.8281\n",
            "Epoch 40/70\n",
            "200/200 [==============================] - 108s 539ms/step - loss: 0.6669 - acc: 0.7095 - val_loss: 0.5936 - val_acc: 0.8394\n",
            "Epoch 41/70\n",
            "200/200 [==============================] - 108s 539ms/step - loss: 0.6609 - acc: 0.7091 - val_loss: 0.6194 - val_acc: 0.8325\n",
            "Epoch 42/70\n",
            "200/200 [==============================] - 108s 538ms/step - loss: 0.6744 - acc: 0.7106 - val_loss: 0.5970 - val_acc: 0.8387\n",
            "Epoch 43/70\n",
            "200/200 [==============================] - 108s 538ms/step - loss: 0.6654 - acc: 0.7050 - val_loss: 0.5960 - val_acc: 0.8281\n",
            "Epoch 44/70\n",
            "200/200 [==============================] - 107s 536ms/step - loss: 0.6494 - acc: 0.7184 - val_loss: 0.6116 - val_acc: 0.8287\n",
            "Epoch 45/70\n",
            "200/200 [==============================] - 108s 538ms/step - loss: 0.6546 - acc: 0.7137 - val_loss: 0.6094 - val_acc: 0.8375\n",
            "Epoch 46/70\n",
            "200/200 [==============================] - 108s 538ms/step - loss: 0.6586 - acc: 0.7145 - val_loss: 0.6327 - val_acc: 0.8294\n",
            "Epoch 47/70\n",
            "200/200 [==============================] - 108s 539ms/step - loss: 0.6387 - acc: 0.7192 - val_loss: 0.6092 - val_acc: 0.8287\n",
            "Epoch 48/70\n",
            "200/200 [==============================] - 109s 547ms/step - loss: 0.6360 - acc: 0.7222 - val_loss: 0.6027 - val_acc: 0.8350\n",
            "Epoch 49/70\n",
            "200/200 [==============================] - 107s 536ms/step - loss: 0.6283 - acc: 0.7212 - val_loss: 0.6188 - val_acc: 0.8200\n",
            "Epoch 50/70\n",
            "200/200 [==============================] - 108s 540ms/step - loss: 0.6279 - acc: 0.7342 - val_loss: 0.5832 - val_acc: 0.8325\n",
            "Epoch 51/70\n",
            "200/200 [==============================] - 108s 538ms/step - loss: 0.6291 - acc: 0.7292 - val_loss: 0.5949 - val_acc: 0.8337\n",
            "Epoch 52/70\n",
            "200/200 [==============================] - 108s 540ms/step - loss: 0.6306 - acc: 0.7294 - val_loss: 0.5855 - val_acc: 0.8344\n",
            "Epoch 53/70\n",
            "200/200 [==============================] - 108s 542ms/step - loss: 0.6289 - acc: 0.7328 - val_loss: 0.6113 - val_acc: 0.8331\n",
            "Epoch 54/70\n",
            "200/200 [==============================] - 108s 539ms/step - loss: 0.6256 - acc: 0.7300 - val_loss: 0.6009 - val_acc: 0.8369\n",
            "Epoch 55/70\n",
            "200/200 [==============================] - 107s 535ms/step - loss: 0.6219 - acc: 0.7339 - val_loss: 0.5883 - val_acc: 0.8369\n",
            "Epoch 56/70\n",
            "200/200 [==============================] - 107s 537ms/step - loss: 0.6097 - acc: 0.7405 - val_loss: 0.6283 - val_acc: 0.8275\n",
            "Epoch 57/70\n",
            "200/200 [==============================] - 108s 538ms/step - loss: 0.6016 - acc: 0.7473 - val_loss: 0.6059 - val_acc: 0.8069\n",
            "Epoch 58/70\n",
            "200/200 [==============================] - 107s 536ms/step - loss: 0.5973 - acc: 0.7405 - val_loss: 0.5912 - val_acc: 0.8287\n",
            "Epoch 59/70\n",
            "200/200 [==============================] - 107s 535ms/step - loss: 0.6159 - acc: 0.7397 - val_loss: 0.5795 - val_acc: 0.8300\n",
            "Epoch 60/70\n",
            "200/200 [==============================] - 108s 539ms/step - loss: 0.5993 - acc: 0.7444 - val_loss: 0.5877 - val_acc: 0.8350\n",
            "Epoch 61/70\n",
            "200/200 [==============================] - 108s 542ms/step - loss: 0.5993 - acc: 0.7434 - val_loss: 0.6117 - val_acc: 0.8350\n",
            "Epoch 62/70\n",
            "200/200 [==============================] - 108s 542ms/step - loss: 0.5811 - acc: 0.7547 - val_loss: 0.6173 - val_acc: 0.8256\n",
            "Epoch 63/70\n",
            "200/200 [==============================] - 111s 555ms/step - loss: 0.5720 - acc: 0.7569 - val_loss: 0.6331 - val_acc: 0.8256\n",
            "Epoch 64/70\n",
            "200/200 [==============================] - 113s 564ms/step - loss: 0.5749 - acc: 0.7602 - val_loss: 0.6447 - val_acc: 0.8181\n",
            "Epoch 65/70\n",
            "200/200 [==============================] - 113s 563ms/step - loss: 0.5704 - acc: 0.7555 - val_loss: 0.5824 - val_acc: 0.8313\n",
            "Epoch 66/70\n",
            "200/200 [==============================] - 115s 574ms/step - loss: 0.5828 - acc: 0.7427 - val_loss: 0.6423 - val_acc: 0.8237\n",
            "Epoch 67/70\n",
            "200/200 [==============================] - 113s 567ms/step - loss: 0.5770 - acc: 0.7542 - val_loss: 0.6060 - val_acc: 0.8281\n",
            "Epoch 68/70\n",
            "200/200 [==============================] - 114s 572ms/step - loss: 0.5662 - acc: 0.7528 - val_loss: 0.6388 - val_acc: 0.8206\n",
            "Epoch 69/70\n",
            "200/200 [==============================] - 114s 571ms/step - loss: 0.5481 - acc: 0.7683 - val_loss: 0.6647 - val_acc: 0.8281\n",
            "Epoch 70/70\n",
            "200/200 [==============================] - 112s 560ms/step - loss: 0.5685 - acc: 0.7639 - val_loss: 0.6136 - val_acc: 0.8206\n"
          ],
          "name": "stdout"
        },
        {
          "output_type": "display_data",
          "data": {
            "image/png": "[encoded data removed]",
            "text/plain": [
              "<Figure size 432x288 with 1 Axes>"
            ]
          },
          "metadata": {
            "tags": []
          }
        },
        {
          "output_type": "display_data",
          "data": {
            "text/plain": [
              "<Figure size 432x288 with 0 Axes>"
            ]
          },
          "metadata": {
            "tags": []
          }
        }
      ]
    }
  ]
}